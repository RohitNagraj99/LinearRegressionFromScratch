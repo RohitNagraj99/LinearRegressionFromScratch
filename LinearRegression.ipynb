{
  "nbformat": 4,
  "nbformat_minor": 0,
  "metadata": {
    "colab": {
      "name": "LinearRegression.ipynb",
      "provenance": [],
      "collapsed_sections": []
    },
    "kernelspec": {
      "name": "python3",
      "display_name": "Python 3"
    }
  },
  "cells": [
    {
      "cell_type": "markdown",
      "metadata": {
        "id": "ev0oBabboyiu",
        "colab_type": "text"
      },
      "source": [
        "### Linear Regression with Gradient Descent from Scratch\n",
        "We'll be using JAX library to obtain the gradients, everything else is from scratch\n",
        "\n",
        "Implementation here is only done for single point, but can be extended to multiple points without any changes."
      ]
    },
    {
      "cell_type": "code",
      "metadata": {
        "id": "a-mQAXDS2NPA",
        "colab_type": "code",
        "colab": {}
      },
      "source": [
        "import jax\n",
        "import jax.numpy as jnp"
      ],
      "execution_count": 0,
      "outputs": []
    },
    {
      "cell_type": "code",
      "metadata": {
        "id": "Pw99MNGu2S88",
        "colab_type": "code",
        "colab": {}
      },
      "source": [
        "class LinearRegression():\n",
        "    def __init__(self, w, b):\n",
        "        self.w = w\n",
        "        self.b = b\n",
        "\n",
        "    def predict(self, x):\n",
        "        return self.w*x + self.b\n",
        "\n",
        "    def rms(self, xs, ys):\n",
        "        return jnp.sqrt(jnp.sum(jnp.square(self.w*xs + self.b - ys)))"
      ],
      "execution_count": 0,
      "outputs": []
    },
    {
      "cell_type": "code",
      "metadata": {
        "id": "X4vGLrm13gwS",
        "colab_type": "code",
        "outputId": "48aa68f1-7c9c-4fe1-8a38-319da9a586a6",
        "colab": {
          "base_uri": "https://localhost:8080/",
          "height": 69
        }
      },
      "source": [
        "lr = LinearRegression(10., 5.)\n",
        "xs = jnp.array([42.])\n",
        "ys = jnp.array([21.])\n",
        "\n",
        "print(lr.rms(xs, ys))"
      ],
      "execution_count": 0,
      "outputs": [
        {
          "output_type": "stream",
          "text": [
            "/usr/local/lib/python3.6/dist-packages/jax/lib/xla_bridge.py:119: UserWarning: No GPU/TPU found, falling back to CPU.\n",
            "  warnings.warn('No GPU/TPU found, falling back to CPU.')\n"
          ],
          "name": "stderr"
        },
        {
          "output_type": "stream",
          "text": [
            "404.0\n"
          ],
          "name": "stdout"
        }
      ]
    },
    {
      "cell_type": "code",
      "metadata": {
        "id": "Pe4JBiGE4Tmm",
        "colab_type": "code",
        "outputId": "b7a9f7b4-a054-4147-c16d-71b23c58559d",
        "colab": {
          "base_uri": "https://localhost:8080/",
          "height": 34
        }
      },
      "source": [
        "print(lr.predict(42.))"
      ],
      "execution_count": 0,
      "outputs": [
        {
          "output_type": "stream",
          "text": [
            "425.0\n"
          ],
          "name": "stdout"
        }
      ]
    },
    {
      "cell_type": "code",
      "metadata": {
        "id": "QJjcgPPH4Y76",
        "colab_type": "code",
        "colab": {}
      },
      "source": [
        "def loss_fn(w, b, xs, ys):\n",
        "    lr = LinearRegression(w, b)\n",
        "    return lr.rms(xs, ys)"
      ],
      "execution_count": 0,
      "outputs": []
    },
    {
      "cell_type": "code",
      "metadata": {
        "id": "LCKcojLd7bVI",
        "colab_type": "code",
        "outputId": "ff650601-67d4-43f6-883c-8190cc537012",
        "colab": {
          "base_uri": "https://localhost:8080/",
          "height": 52
        }
      },
      "source": [
        "grad_fn = jax.grad(loss_fn, argnums = (0,1))\n",
        "\n",
        "print(loss_fn(13., 0., xs, ys))\n",
        "print(grad_fn(13., 0., xs, ys))"
      ],
      "execution_count": 0,
      "outputs": [
        {
          "output_type": "stream",
          "text": [
            "525.0\n",
            "(DeviceArray(42., dtype=float32), DeviceArray(1., dtype=float32))\n"
          ],
          "name": "stdout"
        }
      ]
    },
    {
      "cell_type": "code",
      "metadata": {
        "id": "VBeE05wk7rNM",
        "colab_type": "code",
        "colab": {}
      },
      "source": [
        "def loss_fn(params, xs, ys):\n",
        "    lr = LinearRegression(params['w'], params['b'])\n",
        "    return lr.rms(xs, ys)"
      ],
      "execution_count": 0,
      "outputs": []
    },
    {
      "cell_type": "code",
      "metadata": {
        "id": "fa3ScV8n8Ps2",
        "colab_type": "code",
        "colab": {}
      },
      "source": [
        "grad_fn = jax.grad(loss_fn)"
      ],
      "execution_count": 0,
      "outputs": []
    },
    {
      "cell_type": "code",
      "metadata": {
        "id": "9QhSwR_n8YU2",
        "colab_type": "code",
        "outputId": "1c3251ee-b03d-4a1c-9a85-3c1e5b3fec72",
        "colab": {
          "base_uri": "https://localhost:8080/",
          "height": 295
        }
      },
      "source": [
        "params = {'w':42., 'b':0.}\n",
        "\n",
        "for _ in range(15):\n",
        "    print(loss_fn(params, xs, ys))\n",
        "    grads = grad_fn(params, xs, ys)\n",
        "    for name in params.keys():\n",
        "        params[name] -=0.070538 * grads[name]\n",
        "\n",
        "LinearRegression(params['w'], params['b']).predict(42.)"
      ],
      "execution_count": 0,
      "outputs": [
        {
          "output_type": "stream",
          "text": [
            "1743.0\n",
            "1618.5004\n",
            "1494.0007\n",
            "1369.5011\n",
            "1245.0016\n",
            "1120.502\n",
            "996.0024\n",
            "871.50275\n",
            "747.0031\n",
            "622.5036\n",
            "498.00403\n",
            "373.50446\n",
            "249.00485\n",
            "124.50531\n",
            "0.005754471\n"
          ],
          "name": "stdout"
        },
        {
          "output_type": "execute_result",
          "data": {
            "text/plain": [
              "DeviceArray(-103.49381, dtype=float32)"
            ]
          },
          "metadata": {
            "tags": []
          },
          "execution_count": 37
        }
      ]
    },
    {
      "cell_type": "code",
      "metadata": {
        "id": "QCf4-G8R8_fm",
        "colab_type": "code",
        "colab": {}
      },
      "source": [
        ""
      ],
      "execution_count": 0,
      "outputs": []
    }
  ]
}